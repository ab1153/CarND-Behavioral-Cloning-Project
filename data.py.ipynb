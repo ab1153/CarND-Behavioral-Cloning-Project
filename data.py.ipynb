{
 "cells": [
  {
   "cell_type": "code",
   "execution_count": 1,
   "metadata": {
    "collapsed": true
   },
   "outputs": [],
   "source": [
    "import numpy as np\n",
    "from matplotlib import pyplot as plt\n",
    "%matplotlib inline\n",
    "import pandas as pd\n",
    "import math\n",
    "import cv2\n",
    "from sklearn import model_selection"
   ]
  },
  {
   "cell_type": "code",
   "execution_count": 2,
   "metadata": {
    "collapsed": false
   },
   "outputs": [],
   "source": [
    "data_path = './data/'\n",
    "df = pd.read_csv(data_path + 'driving_log.csv')\n",
    "steerings = df.ix[:,3]\n",
    "steering_abs = np.absolute(steerings)\n",
    "steering_min = steering_abs.min()\n",
    "steering_max = steering_abs.max()\n",
    "n_bin = 100\n",
    "max_per_bin = 100\n",
    "min_per_bin = 50\n"
   ]
  },
  {
   "cell_type": "code",
   "execution_count": 3,
   "metadata": {
    "collapsed": true
   },
   "outputs": [],
   "source": [
    "def plot_imgs(imgs, steerings):\n",
    "    plt.subplots_adjust()\n",
    "    count = imgs.shape[0]\n",
    "    n_col = 4\n",
    "    n_row = math.ceil(count / n_col)\n",
    "    n_row = 2 if n_row == 1 else n_row\n",
    "    fig, ax = plt.subplots(n_row, n_col, figsize=[16, 3 * n_row/2] )\n",
    "    for i in range(n_row):\n",
    "        for j in range(n_col):\n",
    "            ij = j + i * n_col\n",
    "            if ij < count:\n",
    "                ax[i,j].axis('off')\n",
    "                ax[i,j].set_title(steerings[ij])\n",
    "                ax[i,j].imshow(imgs[ij])"
   ]
  },
  {
   "cell_type": "code",
   "execution_count": 4,
   "metadata": {
    "collapsed": true
   },
   "outputs": [],
   "source": [
    "def read_imgs(df, h, w):\n",
    "    imgs = np.zeros([0, h, w, 3], dtype='uint8')\n",
    "    angles = np.zeros(0, dtype='float32')\n",
    "    for i,row in df.iterrows():\n",
    "        _, _, filename = row[0].partition('IMG')\n",
    "        img = cv2.imread(data_path + 'IMG' + filename)\n",
    "        img = img[60:-20 ,:]\n",
    "        img = img[..., ::-1]\n",
    "        img = cv2.resize(img, (w, h))\n",
    "        imgs = np.concatenate([imgs, [img]])\n",
    "        angle = row[3]\n",
    "        angles = np.concatenate([angles, [angle]])\n",
    "    return imgs, angles"
   ]
  },
  {
   "cell_type": "code",
   "execution_count": 5,
   "metadata": {
    "collapsed": true
   },
   "outputs": [],
   "source": [
    "def random_expand_imgs(imgs, angles, to_generate):\n",
    "    to_replace = False if to_generate < imgs.shape[0] else True\n",
    "    indices = np.random.choice(np.arange(imgs.shape[0]), to_generate, replace=to_replace)\n",
    "    ret_imgs = np.copy(imgs)\n",
    "    ret_angles = np.copy(angles)\n",
    "    for i in indices:\n",
    "        img = imgs[i]\n",
    "        angle = angles[i]\n",
    "        opt = np.random.choice(3)\n",
    "        if opt == 0: # blur\n",
    "            img = cv2.blur(img, (3,3))\n",
    "        else:\n",
    "            modifier = np.random.rand() + 0.5\n",
    "            modifier = 0.5\n",
    "            img = cv2.cvtColor(img, cv2.COLOR_RGB2HSV)\n",
    "            if opt == 1:\n",
    "                img[...,2] = modifier * img[...,2]\n",
    "            else:\n",
    "                img_indices = np.indices(img.shape)\n",
    "                ys = img_indices[0]\n",
    "                xs = img_indices[1]\n",
    "                m = np.random.choice(np.arange(-2,2,0.1))\n",
    "                b = np.random.choice(img.shape[0]) * (np.random.choice([-1, 1]))\n",
    "                mask = np.copy(img)\n",
    "                mask[...,2] = mask[...,2] * modifier\n",
    "                sig = np.random.choice([-1, 1])\n",
    "                img = np.where( sig * (xs*m  + b) > sig * ys, img, mask)\n",
    "\n",
    "            img = cv2.cvtColor(img, cv2.COLOR_HSV2RGB)\n",
    "            \n",
    "        ret_imgs = np.append(ret_imgs, [img], axis=0)\n",
    "        ret_angles = np.append(ret_angles, [angle], axis=0)\n",
    "    return ret_imgs, ret_angles"
   ]
  },
  {
   "cell_type": "code",
   "execution_count": 6,
   "metadata": {
    "collapsed": true
   },
   "outputs": [],
   "source": [
    "def generate_x_y(h=20, w=80):\n",
    "    bin_edges = np.linspace(0., 1., num=n_bin + 1)\n",
    "    xs = np.zeros([0, h, w, 3], dtype='uint8')\n",
    "    ys = np.zeros(0, dtype='float32')\n",
    "    bin_start = 0\n",
    "    for bin_end in bin_edges[1:]:\n",
    "        bin_entries = df[(bin_start <= steering_abs) & (steering_abs < bin_end)]\n",
    "        if bin_entries.shape[0] == 0:\n",
    "            continue\n",
    "\n",
    "        n_img = bin_entries.shape[0]\n",
    "        \n",
    "        if n_img > max_per_bin:\n",
    "            bin_entries = bin_entries.sample(max_per_bin)\n",
    "            imgs, angles = read_imgs(bin_entries, h, w)\n",
    "            n_img = max_per_bin\n",
    "            \n",
    "        elif n_img < min_per_bin:\n",
    "            imgs, angles = read_imgs(bin_entries, h, w)\n",
    "            \n",
    "            to_generate = min_per_bin - n_img\n",
    "            imgs, angles = random_expand_imgs(imgs, angles, to_generate)\n",
    "            n_img = min_per_bin\n",
    "            \n",
    "        else:\n",
    "            imgs, angles = read_imgs(bin_entries, h, w)\n",
    "            \n",
    "        xs = np.concatenate([xs, imgs])\n",
    "        ys = np.concatenate([ys, angles])\n",
    "        bin_start = bin_end\n",
    "    return xs, ys"
   ]
  },
  {
   "cell_type": "code",
   "execution_count": 7,
   "metadata": {
    "collapsed": false
   },
   "outputs": [],
   "source": [
    "xs, ys = generate_x_y()"
   ]
  },
  {
   "cell_type": "code",
   "execution_count": 8,
   "metadata": {
    "collapsed": false
   },
   "outputs": [
    {
     "data": {
      "text/plain": [
       "((5164, 20, 80, 3), (5164,))"
      ]
     },
     "execution_count": 8,
     "metadata": {},
     "output_type": "execute_result"
    }
   ],
   "source": [
    "xs.shape, ys.shape"
   ]
  },
  {
   "cell_type": "code",
   "execution_count": 9,
   "metadata": {
    "collapsed": false
   },
   "outputs": [],
   "source": [
    "np.save('./xs.npy', xs)\n",
    "np.save('./ys.npy', ys)"
   ]
  }
 ],
 "metadata": {
  "kernelspec": {
   "display_name": "Python 3",
   "language": "python",
   "name": "python3"
  },
  "language_info": {
   "codemirror_mode": {
    "name": "ipython",
    "version": 3
   },
   "file_extension": ".py",
   "mimetype": "text/x-python",
   "name": "python",
   "nbconvert_exporter": "python",
   "pygments_lexer": "ipython3",
   "version": "3.5.2"
  },
  "widgets": {
   "state": {},
   "version": "1.1.2"
  }
 },
 "nbformat": 4,
 "nbformat_minor": 2
}
